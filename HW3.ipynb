{
  "nbformat": 4,
  "nbformat_minor": 0,
  "metadata": {
    "kernelspec": {
      "display_name": "Python 3",
      "language": "python",
      "name": "python3"
    },
    "language_info": {
      "codemirror_mode": {
        "name": "ipython",
        "version": 3
      },
      "file_extension": ".py",
      "mimetype": "text/x-python",
      "name": "python",
      "nbconvert_exporter": "python",
      "pygments_lexer": "ipython3",
      "version": "3.7.4"
    },
    "colab": {
      "name": "HW3.ipynb",
      "provenance": []
    }
  },
  "cells": [
    {
      "cell_type": "markdown",
      "metadata": {
        "id": "q245D0mtTNhd"
      },
      "source": [
        "# EE25737: Introduction to Machine Learning"
      ]
    },
    {
      "cell_type": "markdown",
      "metadata": {
        "id": "5UVfP_m1TNiT"
      },
      "source": [
        "## Shahab Rahimirad\n",
        "## 95104663"
      ]
    },
    {
      "cell_type": "markdown",
      "metadata": {
        "id": "W_E1pw13TNiX"
      },
      "source": [
        "## Step One"
      ]
    },
    {
      "cell_type": "markdown",
      "metadata": {
        "id": "9lmgagpxTNiY"
      },
      "source": [
        "part 1: nans"
      ]
    },
    {
      "cell_type": "code",
      "metadata": {
        "id": "GjFLvOByTNia",
        "outputId": "710b2580-5051-4930-a39d-1457f1fd7a3f"
      },
      "source": [
        "import pandas as pd\n",
        "data = pd.read_csv(\"train.csv\")\n",
        "nans = data.isna().sum()\n",
        "print(nans)\n",
        "nansPercent = nans / len(data)\n",
        "print(nansPercent)"
      ],
      "execution_count": null,
      "outputs": [
        {
          "output_type": "stream",
          "text": [
            "PassengerId      0\n",
            "Survived         0\n",
            "Pclass           0\n",
            "Name             0\n",
            "Sex              0\n",
            "Age            177\n",
            "SibSp            0\n",
            "Parch            0\n",
            "Ticket           0\n",
            "Fare             0\n",
            "Cabin          687\n",
            "Embarked         2\n",
            "dtype: int64\n",
            "PassengerId    0.000000\n",
            "Survived       0.000000\n",
            "Pclass         0.000000\n",
            "Name           0.000000\n",
            "Sex            0.000000\n",
            "Age            0.198653\n",
            "SibSp          0.000000\n",
            "Parch          0.000000\n",
            "Ticket         0.000000\n",
            "Fare           0.000000\n",
            "Cabin          0.771044\n",
            "Embarked       0.002245\n",
            "dtype: float64\n"
          ],
          "name": "stdout"
        }
      ]
    },
    {
      "cell_type": "markdown",
      "metadata": {
        "id": "6Bbs4xrZTNif"
      },
      "source": [
        "part 2: titles creation"
      ]
    },
    {
      "cell_type": "code",
      "metadata": {
        "id": "EcbOSP4pTNih",
        "outputId": "948752e3-299d-4813-ba0c-a0f7167173dc"
      },
      "source": [
        "\n",
        "data['Title'] = data.apply(lambda row: row['Name'].split(\",\")[1].split('.')[0][1:] , axis=1) \n",
        "print(data.Title)\n"
      ],
      "execution_count": null,
      "outputs": [
        {
          "output_type": "stream",
          "text": [
            "0        Mr\n",
            "1       Mrs\n",
            "2      Miss\n",
            "3       Mrs\n",
            "4        Mr\n",
            "       ... \n",
            "886     Rev\n",
            "887    Miss\n",
            "888    Miss\n",
            "889      Mr\n",
            "890      Mr\n",
            "Name: Title, Length: 891, dtype: object\n"
          ],
          "name": "stdout"
        }
      ]
    },
    {
      "cell_type": "markdown",
      "metadata": {
        "id": "mYRtwWSzTNii"
      },
      "source": [
        "part 3 : title counting"
      ]
    },
    {
      "cell_type": "code",
      "metadata": {
        "id": "JiRAfAYFTNik",
        "outputId": "791d8779-2726-47e4-8b2e-96cd971cd7fd"
      },
      "source": [
        "titleCount = data.Title.value_counts()\n",
        "print(titleCount)\n",
        "titleCategory = {'Mr' : 'Mr' , 'Miss':'Miss'}\n",
        "for i in data.Title.unique():\n",
        "    if not (i in titleCategory):\n",
        "        titleCategory[i] = 'other'\n",
        "data['TitleCategory'] = data.apply(lambda row: titleCategory[row['Title']] , axis=1) \n",
        "print(data.TitleCategory)"
      ],
      "execution_count": null,
      "outputs": [
        {
          "output_type": "stream",
          "text": [
            "Mr              517\n",
            "Miss            182\n",
            "Mrs             125\n",
            "Master           40\n",
            "Dr                7\n",
            "Rev               6\n",
            "Col               2\n",
            "Mlle              2\n",
            "Major             2\n",
            "Capt              1\n",
            "Mme               1\n",
            "Jonkheer          1\n",
            "Ms                1\n",
            "the Countess      1\n",
            "Don               1\n",
            "Lady              1\n",
            "Sir               1\n",
            "Name: Title, dtype: int64\n",
            "0         Mr\n",
            "1      other\n",
            "2       Miss\n",
            "3      other\n",
            "4         Mr\n",
            "       ...  \n",
            "886    other\n",
            "887     Miss\n",
            "888     Miss\n",
            "889       Mr\n",
            "890       Mr\n",
            "Name: TitleCategory, Length: 891, dtype: object\n"
          ],
          "name": "stdout"
        }
      ]
    },
    {
      "cell_type": "markdown",
      "metadata": {
        "id": "Xm5Fte2xTNim"
      },
      "source": [
        "part 4: age filling"
      ]
    },
    {
      "cell_type": "code",
      "metadata": {
        "id": "5aX1tW8CTNin",
        "outputId": "9a5a3414-c0ed-4f25-9754-67bb19b0ad13"
      },
      "source": [
        "ageMeans = data.groupby('Title', as_index=False)['Age'].mean()\n",
        "ageMeansDict = {ageMeans.iloc[i].Title : ageMeans.iloc[i].Age for i in range(len(ageMeans))}\n",
        "print(ageMeans)\n",
        "data['Age'] = data.apply(\n",
        "    lambda row: ageMeansDict[row['Title']] if pd.isna(row['Age']) else row['Age'],\n",
        "    axis=1\n",
        ")\n",
        "print(data.Age.isna().sum())\n",
        "print(data.Age)"
      ],
      "execution_count": null,
      "outputs": [
        {
          "output_type": "stream",
          "text": [
            "           Title        Age\n",
            "0           Capt  70.000000\n",
            "1            Col  58.000000\n",
            "2            Don  40.000000\n",
            "3             Dr  42.000000\n",
            "4       Jonkheer  38.000000\n",
            "5           Lady  48.000000\n",
            "6          Major  48.500000\n",
            "7         Master   4.574167\n",
            "8           Miss  21.773973\n",
            "9           Mlle  24.000000\n",
            "10           Mme  24.000000\n",
            "11            Mr  32.368090\n",
            "12           Mrs  35.898148\n",
            "13            Ms  28.000000\n",
            "14           Rev  43.166667\n",
            "15           Sir  49.000000\n",
            "16  the Countess  33.000000\n",
            "0\n",
            "0      22.000000\n",
            "1      38.000000\n",
            "2      26.000000\n",
            "3      35.000000\n",
            "4      35.000000\n",
            "         ...    \n",
            "886    27.000000\n",
            "887    19.000000\n",
            "888    21.773973\n",
            "889    26.000000\n",
            "890    32.000000\n",
            "Name: Age, Length: 891, dtype: float64\n"
          ],
          "name": "stdout"
        }
      ]
    },
    {
      "cell_type": "markdown",
      "metadata": {
        "id": "naBQTnc8TNip"
      },
      "source": [
        "part 5: fare filling"
      ]
    },
    {
      "cell_type": "code",
      "metadata": {
        "id": "60k8rYLYTNiq",
        "outputId": "bd91dd0b-f2e5-43fa-a18b-7d33d137d73c"
      },
      "source": [
        "means = data.groupby('Pclass', as_index=False)['Fare'].mean()\n",
        "print(means)\n",
        "fare1 = data.loc[data['Pclass'] == 1]['Fare']\n",
        "fare1 = fare1[fare1 != 0]\n",
        "print(fare1.mean())\n",
        "fare2 = data.loc[data['Pclass'] == 2]['Fare']\n",
        "fare2 = fare2[fare2 != 0]\n",
        "print(fare2.mean())\n",
        "fare3 = data.loc[data['Pclass'] == 3]['Fare']\n",
        "fare3 = fare3[fare3 != 0]\n",
        "print(fare3.mean())\n",
        "x = pd.concat([pd.DataFrame(fare1),fare2,fare3], axis=1)\n",
        "print(x)\n",
        "#fare2class = pd.DataFrame(pd.concat([fare1,fare2,fare3], axis=1) , columns = ['class1' , 'class2' , 'class3'])\n",
        "boxplot = x.boxplot()"
      ],
      "execution_count": null,
      "outputs": [
        {
          "output_type": "stream",
          "text": [
            "   Pclass       Fare\n",
            "0       1  84.154687\n",
            "1       2  20.662183\n",
            "2       3  13.675550\n",
            "86.14887440758294\n",
            "21.358661235955054\n",
            "13.7878749486653\n",
            "        Fare  Fare    Fare\n",
            "0        NaN   NaN   7.250\n",
            "1    71.2833   NaN     NaN\n",
            "2        NaN   NaN   7.925\n",
            "3    53.1000   NaN     NaN\n",
            "4        NaN   NaN   8.050\n",
            "..       ...   ...     ...\n",
            "886      NaN  13.0     NaN\n",
            "887  30.0000   NaN     NaN\n",
            "888      NaN   NaN  23.450\n",
            "889  30.0000   NaN     NaN\n",
            "890      NaN   NaN   7.750\n",
            "\n",
            "[876 rows x 3 columns]\n"
          ],
          "name": "stdout"
        },
        {
          "output_type": "display_data",
          "data": {
            "image/png": "[encoded data removed]",
            "text/plain": [
              "<Figure size 432x288 with 1 Axes>"
            ]
          },
          "metadata": {
            "tags": [],
            "needs_background": "light"
          }
        }
      ]
    },
    {
      "cell_type": "markdown",
      "metadata": {
        "id": "ur7fdSPuTNis"
      },
      "source": [
        "part 6: categorical data"
      ]
    },
    {
      "cell_type": "code",
      "metadata": {
        "id": "qfhNxzoxTNit",
        "outputId": "dc5711f4-2746-4104-a5e8-83612f8d4fea"
      },
      "source": [
        "data['E1'] = data.apply(\n",
        "    lambda row: 1 if (row['Embarked']=='S' or row['Embarked']=='C') else 0,\n",
        "    axis=1\n",
        ")\n",
        "# S=3 C=2 Q=1 NaN = 0\n",
        "data['E0'] = data.apply(\n",
        "    lambda row: 1 if (row['Embarked']=='S' or row['Embarked']=='Q') else 0,\n",
        "    axis=1\n",
        ")\n",
        "print(data.loc[: , ['E1' , 'E0']])\n",
        "print(data.Embarked)\n",
        "\n",
        "data['Gender'] = data.apply(\n",
        "    lambda row: 1 if (row['Sex']=='male') else 0,\n",
        "    axis=1\n",
        ")\n",
        "\n",
        "data['Mr'] = data.apply(\n",
        "    lambda row: 1 if (row['TitleCategory']=='Mr') else 0,\n",
        "    axis=1\n",
        ")\n",
        "data['Miss'] = data.apply(\n",
        "    lambda row: 1 if (row['TitleCategory']=='Miss') else 0,\n",
        "    axis=1\n",
        ")\n",
        "data['OtherTitles'] = data.apply(\n",
        "    lambda row: 1 if (row['TitleCategory']=='other') else 0,\n",
        "    axis=1\n",
        ")\n",
        "#male = 1, female=0\n",
        "print(data.Gender)"
      ],
      "execution_count": null,
      "outputs": [
        {
          "output_type": "stream",
          "text": [
            "     E1  E0\n",
            "0     1   1\n",
            "1     1   0\n",
            "2     1   1\n",
            "3     1   1\n",
            "4     1   1\n",
            "..   ..  ..\n",
            "886   1   1\n",
            "887   1   1\n",
            "888   1   1\n",
            "889   1   0\n",
            "890   0   1\n",
            "\n",
            "[891 rows x 2 columns]\n",
            "0      S\n",
            "1      C\n",
            "2      S\n",
            "3      S\n",
            "4      S\n",
            "      ..\n",
            "886    S\n",
            "887    S\n",
            "888    S\n",
            "889    C\n",
            "890    Q\n",
            "Name: Embarked, Length: 891, dtype: object\n",
            "0      1\n",
            "1      0\n",
            "2      0\n",
            "3      0\n",
            "4      1\n",
            "      ..\n",
            "886    1\n",
            "887    0\n",
            "888    0\n",
            "889    1\n",
            "890    1\n",
            "Name: Gender, Length: 891, dtype: int64\n"
          ],
          "name": "stdout"
        }
      ]
    },
    {
      "cell_type": "markdown",
      "metadata": {
        "id": "noyW-ASQTNiu"
      },
      "source": [
        "part 7 : delete categories"
      ]
    },
    {
      "cell_type": "code",
      "metadata": {
        "id": "PW9c5GA5TNiv",
        "outputId": "5b80150d-1f06-468d-9681-16e1aaf03498"
      },
      "source": [
        "\n",
        "newData = data.drop(['Sex' , 'Title' , 'Embarked' , 'TitleCategory'] , axis=1)\n",
        "print(newData)\n",
        "newData.to_csv(\"changedData.csv\" , index=False)"
      ],
      "execution_count": null,
      "outputs": [
        {
          "output_type": "stream",
          "text": [
            "     PassengerId  Survived  Pclass  \\\n",
            "0              1         0       3   \n",
            "1              2         1       1   \n",
            "2              3         1       3   \n",
            "3              4         1       1   \n",
            "4              5         0       3   \n",
            "..           ...       ...     ...   \n",
            "886          887         0       2   \n",
            "887          888         1       1   \n",
            "888          889         0       3   \n",
            "889          890         1       1   \n",
            "890          891         0       3   \n",
            "\n",
            "                                                  Name        Age  SibSp  \\\n",
            "0                              Braund, Mr. Owen Harris  22.000000      1   \n",
            "1    Cumings, Mrs. John Bradley (Florence Briggs Th...  38.000000      1   \n",
            "2                               Heikkinen, Miss. Laina  26.000000      0   \n",
            "3         Futrelle, Mrs. Jacques Heath (Lily May Peel)  35.000000      1   \n",
            "4                             Allen, Mr. William Henry  35.000000      0   \n",
            "..                                                 ...        ...    ...   \n",
            "886                              Montvila, Rev. Juozas  27.000000      0   \n",
            "887                       Graham, Miss. Margaret Edith  19.000000      0   \n",
            "888           Johnston, Miss. Catherine Helen \"Carrie\"  21.773973      1   \n",
            "889                              Behr, Mr. Karl Howell  26.000000      0   \n",
            "890                                Dooley, Mr. Patrick  32.000000      0   \n",
            "\n",
            "     Parch            Ticket     Fare Cabin  E1  E0  Gender  Mr  Miss  \\\n",
            "0        0         A/5 21171   7.2500   NaN   1   1       1   1     0   \n",
            "1        0          PC 17599  71.2833   C85   1   0       0   0     0   \n",
            "2        0  STON/O2. 3101282   7.9250   NaN   1   1       0   0     1   \n",
            "3        0            113803  53.1000  C123   1   1       0   0     0   \n",
            "4        0            373450   8.0500   NaN   1   1       1   1     0   \n",
            "..     ...               ...      ...   ...  ..  ..     ...  ..   ...   \n",
            "886      0            211536  13.0000   NaN   1   1       1   0     0   \n",
            "887      0            112053  30.0000   B42   1   1       0   0     1   \n",
            "888      2        W./C. 6607  23.4500   NaN   1   1       0   0     1   \n",
            "889      0            111369  30.0000  C148   1   0       1   1     0   \n",
            "890      0            370376   7.7500   NaN   0   1       1   1     0   \n",
            "\n",
            "     OtherTitles  \n",
            "0              0  \n",
            "1              1  \n",
            "2              0  \n",
            "3              1  \n",
            "4              0  \n",
            "..           ...  \n",
            "886            1  \n",
            "887            0  \n",
            "888            0  \n",
            "889            0  \n",
            "890            0  \n",
            "\n",
            "[891 rows x 16 columns]\n"
          ],
          "name": "stdout"
        }
      ]
    },
    {
      "cell_type": "markdown",
      "metadata": {
        "id": "ilcjYgRLTNix"
      },
      "source": [
        "# Step Two"
      ]
    },
    {
      "cell_type": "code",
      "metadata": {
        "id": "R8YjkxPITNiy",
        "outputId": "0788fac9-e25a-4cf0-8b55-e445289f314a"
      },
      "source": [
        "survived = newData.loc[newData['Survived']==1]\n",
        "dead = newData.loc[newData['Survived']==0]\n",
        "print(newData['Age'].mean())\n",
        "print(newData['Age'].var())\n",
        "print(newData['Age'].median())\n",
        "print(newData['Age'].mode())\n",
        "\n",
        "\n",
        "print(newData['SibSp'].mean())\n",
        "print(newData['SibSp'].var())\n",
        "print(newData['SibSp'].median())\n",
        "print(newData['SibSp'].mode())\n",
        "\n",
        "print(newData['Parch'].mean())\n",
        "print(newData['Parch'].var())\n",
        "print(newData['Parch'].median())\n",
        "print(newData['Parch'].mode())\n",
        "\n",
        "\n",
        "print(newData['Gender'].mean())\n",
        "print(newData['Gender'].var())\n",
        "print(newData['Gender'].median())\n",
        "print(newData['Gender'].mode())\n",
        "\n",
        "\n",
        "\n",
        "print('survived')\n",
        "print(survived['Age'].mean())\n",
        "print(survived['Age'].var())\n",
        "print(survived['Age'].median())\n",
        "print(survived['Age'].mode())\n",
        "\n",
        "\n",
        "print(survived['SibSp'].mean())\n",
        "print(survived['SibSp'].var())\n",
        "print(survived['SibSp'].median())\n",
        "print(survived['SibSp'].mode())\n",
        "\n",
        "print(survived['Parch'].mean())\n",
        "print(survived['Parch'].var())\n",
        "print(survived['Parch'].median())\n",
        "print(survived['Parch'].mode())\n",
        "\n",
        "\n",
        "print(survived['Gender'].mean())\n",
        "print(survived['Gender'].var())\n",
        "print(survived['Gender'].median())\n",
        "print(survived['Gender'].mode())\n",
        "\n",
        "print('dead')\n",
        "print(dead['Age'].mean())\n",
        "print(dead['Age'].var())\n",
        "print(dead['Age'].median())\n",
        "print(dead['Age'].mode())\n",
        "\n",
        "\n",
        "print(dead['SibSp'].mean())\n",
        "print(dead['SibSp'].var())\n",
        "print(dead['SibSp'].median())\n",
        "print(dead['SibSp'].mode())\n",
        "\n",
        "print(dead['Parch'].mean())\n",
        "print(dead['Parch'].var())\n",
        "print(dead['Parch'].median())\n",
        "print(dead['Parch'].mode())\n",
        "\n",
        "\n",
        "print(dead['Gender'].mean())\n",
        "print(dead['Gender'].var())\n",
        "print(dead['Gender'].median())\n",
        "print(dead['Gender'].mode())\n",
        "\n"
      ],
      "execution_count": null,
      "outputs": [
        {
          "output_type": "stream",
          "text": [
            "29.754658768465667\n",
            "176.28348215691088\n",
            "30.0\n",
            "0    32.36809\n",
            "dtype: float64\n",
            "0.5230078563411896\n",
            "1.2160430774662985\n",
            "0.0\n",
            "0    0\n",
            "dtype: int64\n",
            "0.38159371492704824\n",
            "0.6497282437357343\n",
            "0.0\n",
            "0    0\n",
            "dtype: int64\n",
            "0.6475869809203143\n",
            "0.2284745078752569\n",
            "1.0\n",
            "0    1\n",
            "dtype: int64\n",
            "survived\n",
            "28.256061611109182\n",
            "198.54272236824983\n",
            "28.0\n",
            "0    21.773973\n",
            "dtype: float64\n",
            "0.47368421052631576\n",
            "0.5022379996913103\n",
            "0.0\n",
            "0    0\n",
            "dtype: int64\n",
            "0.4649122807017544\n",
            "0.5955394350980089\n",
            "0.0\n",
            "0    0\n",
            "dtype: int64\n",
            "0.31871345029239767\n",
            "0.2177719469739844\n",
            "0.0\n",
            "0    0\n",
            "dtype: int64\n",
            "dead\n",
            "30.68821109599922\n",
            "160.47938865693294\n",
            "32.0\n",
            "0    32.36809\n",
            "dtype: float64\n",
            "0.5537340619307832\n",
            "1.659972345206281\n",
            "0.0\n",
            "0    0\n",
            "dtype: int64\n",
            "0.3296903460837887\n",
            "0.6776022762022522\n",
            "0.0\n",
            "0    0\n",
            "dtype: int64\n",
            "0.8524590163934426\n",
            "0.12600215388297234\n",
            "1.0\n",
            "0    1\n",
            "dtype: int64\n"
          ],
          "name": "stdout"
        }
      ]
    },
    {
      "cell_type": "markdown",
      "metadata": {
        "id": "KIGCgy-WTNi0"
      },
      "source": [
        "part 1: bar chart"
      ]
    },
    {
      "cell_type": "code",
      "metadata": {
        "id": "7idOyfFWTNi1",
        "outputId": "4840dde7-1232-40f2-c367-1bc8a6aa3e3f"
      },
      "source": [
        "import matplotlib.pyplot as plt\n",
        "mr_survived = newData.loc[newData['Mr']==1]['Survived'].sum()/len(newData.loc[newData['Mr']==1])\n",
        "miss_survived = newData.loc[newData['Miss']==1]['Survived'].sum()/len(newData.loc[newData['Miss']==1])\n",
        "other_survived = newData.loc[newData['OtherTitles']==1]['Survived'].sum()/len(newData.loc[newData['OtherTitles']==1])\n",
        "fig = plt.figure()\n",
        "ax = fig.add_axes([0,0,1,1])\n",
        "titles = ['Mr' , 'Miss' , 'Other']\n",
        "percents = [mr_survived , miss_survived  , other_survived]\n",
        "ax.bar(titles,percents)\n",
        "plt.show()\n",
        "\n",
        "mr_survived = newData.loc[newData['Mr']==1]['Survived'].sum()\n",
        "miss_survived = newData.loc[newData['Miss']==1]['Survived'].sum()\n",
        "other_survived = newData.loc[newData['OtherTitles']==1]['Survived'].sum()\n",
        "fig = plt.figure()\n",
        "ax = fig.add_axes([0,0,1,1])\n",
        "titles = ['Mr' , 'Miss' , 'Other']\n",
        "percents = [mr_survived , miss_survived  , other_survived]\n",
        "ax.bar(titles,percents)\n",
        "plt.show()\n",
        "\n",
        "\n",
        "mr_survived = newData.loc[newData['Mr']==1]['Survived'].count()- newData.loc[newData['Mr']==1]['Survived'].sum()\n",
        "miss_survived = newData.loc[newData['Miss']==1]['Survived'].count()- newData.loc[newData['Miss']==1]['Survived'].sum()\n",
        "other_survived = newData.loc[newData['OtherTitles']==1]['Survived'].count() - newData.loc[newData['OtherTitles']==1]['Survived'].sum()\n",
        "fig = plt.figure()\n",
        "ax = fig.add_axes([0,0,1,1])\n",
        "titles = ['Mr' , 'Miss' , 'Other']\n",
        "percents = [mr_survived , miss_survived  , other_survived]\n",
        "ax.bar(titles,percents)\n",
        "plt.show()\n",
        "\n",
        "\n",
        "print(percents)\n",
        "print(data.groupby('Title').Survived.sum())\n",
        "fig2 = plt.figure()\n",
        "ax2 = fig2.add_axes([0,0,1,1])\n",
        "x = data.groupby('Title').Survived.sum()\n",
        "print(x.values)\n",
        "ax2.bar(x.keys() , x.values)\n",
        "plt.show()\n",
        "\n",
        "fig2 = plt.figure()\n",
        "ax2 = fig2.add_axes([0,0,1,1])\n",
        "x =data.groupby('Title').Survived.count()- data.groupby('Title').Survived.sum()\n",
        "print(x.values)\n",
        "ax2.bar(x.keys() , x.values)\n",
        "plt.show()"
      ],
      "execution_count": null,
      "outputs": [
        {
          "output_type": "display_data",
          "data": {
            "image/png": "[encoded data removed]",
            "text/plain": [
              "<Figure size 432x288 with 1 Axes>"
            ]
          },
          "metadata": {
            "tags": [],
            "needs_background": "light"
          }
        },
        {
          "output_type": "display_data",
          "data": {
            "image/png": "[encoded data removed]",
            "text/plain": [
              "<Figure size 432x288 with 1 Axes>"
            ]
          },
          "metadata": {
            "tags": [],
            "needs_background": "light"
          }
        },
        {
          "output_type": "display_data",
          "data": {
            "image/png": "[encoded data removed]",
            "text/plain": [
              "<Figure size 432x288 with 1 Axes>"
            ]
          },
          "metadata": {
            "tags": [],
            "needs_background": "light"
          }
        },
        {
          "output_type": "stream",
          "text": [
            "[436, 55, 58]\n",
            "Title\n",
            "Capt              0\n",
            "Col               1\n",
            "Don               0\n",
            "Dr                3\n",
            "Jonkheer          0\n",
            "Lady              1\n",
            "Major             1\n",
            "Master           23\n",
            "Miss            127\n",
            "Mlle              2\n",
            "Mme               1\n",
            "Mr               81\n",
            "Mrs              99\n",
            "Ms                1\n",
            "Rev               0\n",
            "Sir               1\n",
            "the Countess      1\n",
            "Name: Survived, dtype: int64\n",
            "[  0   1   0   3   0   1   1  23 127   2   1  81  99   1   0   1   1]\n"
          ],
          "name": "stdout"
        },
        {
          "output_type": "display_data",
          "data": {
            "image/png": "[encoded data removed]",
            "text/plain": [
              "<Figure size 432x288 with 1 Axes>"
            ]
          },
          "metadata": {
            "tags": [],
            "needs_background": "light"
          }
        },
        {
          "output_type": "stream",
          "text": [
            "[  1   1   1   4   1   0   1  17  55   0   0 436  26   0   6   0   0]\n"
          ],
          "name": "stdout"
        },
        {
          "output_type": "display_data",
          "data": {
            "image/png": "[encoded data removed]",
            "text/plain": [
              "<Figure size 432x288 with 1 Axes>"
            ]
          },
          "metadata": {
            "tags": [],
            "needs_background": "light"
          }
        }
      ]
    },
    {
      "cell_type": "markdown",
      "metadata": {
        "id": "ZdHcfsuZTNi3"
      },
      "source": [
        "part 2: boxplot"
      ]
    },
    {
      "cell_type": "code",
      "metadata": {
        "id": "PSpEJBa1TNi4",
        "outputId": "dfed0591-57fe-4f87-8c25-8ac8dc16ef96"
      },
      "source": [
        "survived = newData.loc[newData['Survived' ]== 1]\n",
        "dead = newData.loc[newData['Survived'] == 0]\n",
        "survivedC1 = survived.loc[survived['Pclass'] == 1]['Fare']\n",
        "survivedC2 = survived.loc[survived['Pclass'] == 2]['Fare']\n",
        "survivedC3 = survived.loc[survived['Pclass'] == 3]['Fare']\n",
        "deadC1 = dead.loc[dead['Pclass'] == 1]['Fare']\n",
        "deadC2 = dead.loc[dead['Pclass'] == 2]['Fare']\n",
        "deadC3 = dead.loc[dead['Pclass'] == 3]['Fare']\n",
        "fig = plt.figure()\n",
        "ax = fig.add_axes([0,0,1,1])\n",
        "ax.set_title('1st class')\n",
        "ax.set_xticklabels(['survived' , 'dead'])\n",
        "bp = ax.boxplot([survivedC1 , deadC1] , showfliers=False)\n",
        "fig.show()\n",
        "\n",
        "\n",
        "fig = plt.figure()\n",
        "ax = fig.add_axes([0,0,1,1])\n",
        "ax.set_title('2nd class')\n",
        "ax.set_xticklabels(['survived' , 'dead'])\n",
        "bp = ax.boxplot([survivedC2 , deadC2] , showfliers=False)\n",
        "fig.show()\n",
        "\n",
        "\n",
        "\n",
        "fig = plt.figure()\n",
        "ax = fig.add_axes([0,0,1,1])\n",
        "ax.set_title('3rd class')\n",
        "ax.set_xticklabels(['survived' , 'dead'])\n",
        "bp = ax.boxplot([survivedC3 , deadC3] , showfliers=False)\n",
        "fig.show()"
      ],
      "execution_count": null,
      "outputs": [
        {
          "output_type": "stream",
          "text": [
            "c:\\users\\rahimi-lenovo\\appdata\\local\\programs\\python\\python37\\lib\\site-packages\\ipykernel_launcher.py:14: UserWarning: Matplotlib is currently using module://ipykernel.pylab.backend_inline, which is a non-GUI backend, so cannot show the figure.\n",
            "  \n",
            "c:\\users\\rahimi-lenovo\\appdata\\local\\programs\\python\\python37\\lib\\site-packages\\ipykernel_launcher.py:22: UserWarning: Matplotlib is currently using module://ipykernel.pylab.backend_inline, which is a non-GUI backend, so cannot show the figure.\n",
            "c:\\users\\rahimi-lenovo\\appdata\\local\\programs\\python\\python37\\lib\\site-packages\\ipykernel_launcher.py:31: UserWarning: Matplotlib is currently using module://ipykernel.pylab.backend_inline, which is a non-GUI backend, so cannot show the figure.\n"
          ],
          "name": "stderr"
        },
        {
          "output_type": "display_data",
          "data": {
            "image/png": "[encoded data removed]",
            "text/plain": [
              "<Figure size 432x288 with 1 Axes>"
            ]
          },
          "metadata": {
            "tags": [],
            "needs_background": "light"
          }
        },
        {
          "output_type": "display_data",
          "data": {
            "image/png": "[encoded data removed]",
            "text/plain": [
              "<Figure size 432x288 with 1 Axes>"
            ]
          },
          "metadata": {
            "tags": [],
            "needs_background": "light"
          }
        },
        {
          "output_type": "display_data",
          "data": {
            "image/png": "[encoded data removed]",
            "text/plain": [
              "<Figure size 432x288 with 1 Axes>"
            ]
          },
          "metadata": {
            "tags": [],
            "needs_background": "light"
          }
        }
      ]
    },
    {
      "cell_type": "markdown",
      "metadata": {
        "id": "cMa7DnQYTNi6"
      },
      "source": [
        "part 3: Histogram"
      ]
    },
    {
      "cell_type": "code",
      "metadata": {
        "id": "sSnfeRFTTNi7",
        "outputId": "a23e67be-9eb8-4024-9a30-950a3d952425"
      },
      "source": [
        "bins = list(range(0,90,10))\n",
        "fig = plt.figure()\n",
        "ax = fig.add_axes([0,0,1,1])\n",
        "ax.set_title('age distribution')\n",
        "bp = ax.hist(newData['Age'] , bins=bins , density = 1)\n",
        "#fig.show()\n",
        "survived = newData.loc[newData['Survived']==1]\n",
        "dead = newData.loc[newData['Survived']==0]\n",
        "fig = plt.figure()\n",
        "ax = fig.add_axes([0,0,1,1])\n",
        "ax.set_title('age distribution of survived')\n",
        "bp = ax.hist(survived['Age'] , bins=bins , density = 1)\n",
        "#fig.show()\n",
        "fig = plt.figure()\n",
        "ax = fig.add_axes([0,0,1,1])\n",
        "ax.set_title('age distribution of dead')\n",
        "bp = ax.hist(dead['Age'] , bins=bins , density = 1)\n",
        "#fig.show()\n",
        "\n",
        "\n",
        "fig = plt.figure()\n",
        "ax = fig.add_axes([0,0,1,1])\n",
        "ax.set_title('age distribution of dead Male')\n",
        "bp = ax.hist(dead.loc[dead['Gender']==1]['Age'] , bins=bins , density = 1)\n",
        "#fig.show()\n",
        "\n",
        "fig = plt.figure()\n",
        "ax = fig.add_axes([0,0,1,1])\n",
        "ax.set_title('age distribution of Survived Male')\n",
        "bp = ax.hist(survived.loc[survived['Gender']==1]['Age'] , bins=bins , density = 1)\n",
        "#fig.show()\n",
        "\n",
        "fig = plt.figure()\n",
        "ax = fig.add_axes([0,0,1,1])\n",
        "ax.set_title('age distribution of dead Female')\n",
        "bp = ax.hist(dead.loc[dead['Gender']==0]['Age'] , bins=bins , density = 1)\n",
        "#fig.show()\n",
        "\n",
        "fig = plt.figure()\n",
        "ax = fig.add_axes([0,0,1,1])\n",
        "ax.set_title('age distribution of survived Femail')\n",
        "bp = ax.hist(survived.loc[survived['Gender']==0]['Age'] , bins=bins , density = 1)\n",
        "#fig.show()"
      ],
      "execution_count": null,
      "outputs": [
        {
          "output_type": "display_data",
          "data": {
            "image/png": "[encoded data removed]",
            "text/plain": [
              "<Figure size 432x288 with 1 Axes>"
            ]
          },
          "metadata": {
            "tags": [],
            "needs_background": "light"
          }
        },
        {
          "output_type": "display_data",
          "data": {
            "image/png": "[encoded data removed]",
            "text/plain": [
              "<Figure size 432x288 with 1 Axes>"
            ]
          },
          "metadata": {
            "tags": [],
            "needs_background": "light"
          }
        },
        {
          "output_type": "display_data",
          "data": {
            "image/png": "[encoded data removed]",
            "text/plain": [
              "<Figure size 432x288 with 1 Axes>"
            ]
          },
          "metadata": {
            "tags": [],
            "needs_background": "light"
          }
        },
        {
          "output_type": "display_data",
          "data": {
            "image/png": "[encoded data removed]",
            "text/plain": [
              "<Figure size 432x288 with 1 Axes>"
            ]
          },
          "metadata": {
            "tags": [],
            "needs_background": "light"
          }
        },
        {
          "output_type": "display_data",
          "data": {
            "image/png": "[encoded data removed]",
            "text/plain": [
              "<Figure size 432x288 with 1 Axes>"
            ]
          },
          "metadata": {
            "tags": [],
            "needs_background": "light"
          }
        },
        {
          "output_type": "display_data",
          "data": {
            "image/png": "[encoded data removed]",
            "text/plain": [
              "<Figure size 432x288 with 1 Axes>"
            ]
          },
          "metadata": {
            "tags": [],
            "needs_background": "light"
          }
        },
        {
          "output_type": "display_data",
          "data": {
            "image/png": "[encoded data removed]",
            "text/plain": [
              "<Figure size 432x288 with 1 Axes>"
            ]
          },
          "metadata": {
            "tags": [],
            "needs_background": "light"
          }
        }
      ]
    },
    {
      "cell_type": "markdown",
      "metadata": {
        "id": "n7AH7IBKTNi9"
      },
      "source": [
        "part 4: heatmap"
      ]
    },
    {
      "cell_type": "code",
      "metadata": {
        "id": "ca31yYtlTNjA",
        "outputId": "4808fa18-b1f2-4217-ea01-2c99975c1304"
      },
      "source": [
        "import seaborn as sns\n",
        "cData = newData\n",
        "cData['E1E0'] = cData.apply(\n",
        "    lambda row: (row['E0'] + 2*row['E1']),\n",
        "    axis=1\n",
        ")\n",
        "\n",
        "corr = cData.corr()\n",
        "print(corr)\n",
        "ax = sns.heatmap(\n",
        "    corr, \n",
        "    vmin=-1, vmax=1, center=0,\n",
        "    cmap=sns.diverging_palette(20, 220, n=200),\n",
        "    square=True\n",
        ")\n",
        "ax.set_xticklabels(\n",
        "    ax.get_xticklabels(),\n",
        "    rotation=45,\n",
        "    horizontalalignment='right'\n",
        ");"
      ],
      "execution_count": null,
      "outputs": [
        {
          "output_type": "stream",
          "text": [
            "             PassengerId  Survived    Pclass       Age     SibSp     Parch  \\\n",
            "PassengerId     1.000000 -0.005007 -0.035144  0.042594 -0.057527 -0.001652   \n",
            "Survived       -0.005007  1.000000 -0.338481 -0.089135 -0.035322  0.081629   \n",
            "Pclass         -0.035144 -0.338481  1.000000 -0.343567  0.083081  0.018443   \n",
            "Age             0.042594 -0.089135 -0.343567  1.000000 -0.267660 -0.196802   \n",
            "SibSp          -0.057527 -0.035322  0.083081 -0.267660  1.000000  0.414838   \n",
            "Parch          -0.001652  0.081629  0.018443 -0.196802  0.414838  1.000000   \n",
            "Fare            0.012658  0.257307 -0.549500  0.091095  0.159651  0.216225   \n",
            "E1              0.033218 -0.013613 -0.206095  0.035174  0.029797  0.084032   \n",
            "E0              0.001199 -0.174718  0.251139 -0.049862  0.061970  0.013725   \n",
            "Gender          0.042939 -0.543351  0.131900  0.117351 -0.114631 -0.245489   \n",
            "Mr              0.038850 -0.549199  0.142698  0.231557 -0.250489 -0.333905   \n",
            "Miss           -0.073110  0.327093 -0.000576 -0.304713  0.087932  0.105567   \n",
            "OtherTitles     0.025056  0.338476 -0.170716  0.020846  0.214442  0.297274   \n",
            "E1E0            0.029906 -0.118026 -0.028566  0.000625  0.063794  0.082144   \n",
            "\n",
            "                 Fare        E1        E0    Gender        Mr      Miss  \\\n",
            "PassengerId  0.012658  0.033218  0.001199  0.042939  0.038850 -0.073110   \n",
            "Survived     0.257307 -0.013613 -0.174718 -0.543351 -0.549199  0.327093   \n",
            "Pclass      -0.549500 -0.206095  0.251139  0.131900  0.142698 -0.000576   \n",
            "Age          0.091095  0.035174 -0.049862  0.117351  0.231557 -0.304713   \n",
            "SibSp        0.159651  0.029797  0.061970 -0.114631 -0.250489  0.087932   \n",
            "Parch        0.216225  0.084032  0.013725 -0.245489 -0.333905  0.105567   \n",
            "Fare         1.000000  0.108266 -0.273614 -0.182333 -0.183766  0.118271   \n",
            "E1           0.108266  1.000000 -0.131361  0.083965  0.086719 -0.174938   \n",
            "E0          -0.273614 -0.131361  1.000000  0.090223  0.078955 -0.030287   \n",
            "Gender      -0.182333  0.083965  0.090223  1.000000  0.867334 -0.686808   \n",
            "Mr          -0.183766  0.086719  0.078955  0.867334  1.000000 -0.595692   \n",
            "Miss         0.118271 -0.174938 -0.030287 -0.686808 -0.595692  1.000000   \n",
            "OtherTitles  0.104604  0.067446 -0.065072 -0.367616 -0.616200 -0.265537   \n",
            "E1E0        -0.071010  0.798627  0.491702  0.128526  0.124105 -0.172048   \n",
            "\n",
            "             OtherTitles      E1E0  \n",
            "PassengerId     0.025056  0.029906  \n",
            "Survived        0.338476 -0.118026  \n",
            "Pclass         -0.170716 -0.028566  \n",
            "Age             0.020846  0.000625  \n",
            "SibSp           0.214442  0.063794  \n",
            "Parch           0.297274  0.082144  \n",
            "Fare            0.104604 -0.071010  \n",
            "E1              0.067446  0.798627  \n",
            "E0             -0.065072  0.491702  \n",
            "Gender         -0.367616  0.128526  \n",
            "Mr             -0.616200  0.124105  \n",
            "Miss           -0.265537 -0.172048  \n",
            "OtherTitles     1.000000  0.019738  \n",
            "E1E0            0.019738  1.000000  \n"
          ],
          "name": "stdout"
        },
        {
          "output_type": "display_data",
          "data": {
            "image/png": "[encoded data removed]",
            "text/plain": [
              "<Figure size 432x288 with 2 Axes>"
            ]
          },
          "metadata": {
            "tags": [],
            "needs_background": "light"
          }
        }
      ]
    },
    {
      "cell_type": "markdown",
      "metadata": {
        "id": "7S2Wp046TNjB"
      },
      "source": [
        "# Step Three"
      ]
    },
    {
      "cell_type": "markdown",
      "metadata": {
        "id": "hUefp9wATNjD"
      },
      "source": [
        "part 1: sex & age"
      ]
    },
    {
      "cell_type": "code",
      "metadata": {
        "id": "U0bEguY5TNjE",
        "outputId": "3c3a7d64-4151-4be7-b2e7-bac9189c8693"
      },
      "source": [
        "newData['Child'] = newData.apply(\n",
        "    lambda row: 1 if (row['Age']<=15) else 0,\n",
        "    axis=1\n",
        ")\n",
        "newData['Man'] = newData.apply(\n",
        "    lambda row: 1 if (row['Age']>15 and row['Gender']==1) else 0,\n",
        "    axis=1\n",
        ")\n",
        "newData['Woman'] = newData.apply(\n",
        "    lambda row: 1 if (row['Age']>15 and row['Gender']==0) else 0,\n",
        "    axis=1\n",
        ")\n",
        "print(newData.loc[:,['Child' , 'Man' , 'Woman']])"
      ],
      "execution_count": null,
      "outputs": [
        {
          "output_type": "stream",
          "text": [
            "     Child  Man  Woman\n",
            "0        0    1      0\n",
            "1        0    0      1\n",
            "2        0    0      1\n",
            "3        0    0      1\n",
            "4        0    1      0\n",
            "..     ...  ...    ...\n",
            "886      0    1      0\n",
            "887      0    0      1\n",
            "888      0    0      1\n",
            "889      0    1      0\n",
            "890      0    1      0\n",
            "\n",
            "[891 rows x 3 columns]\n"
          ],
          "name": "stdout"
        }
      ]
    },
    {
      "cell_type": "markdown",
      "metadata": {
        "id": "tIGGWuGNTNjG"
      },
      "source": [
        "part 2: relatives"
      ]
    },
    {
      "cell_type": "code",
      "metadata": {
        "id": "8uJynPphTNjH",
        "outputId": "01f6f201-0a42-41e8-8c47-914c5f2625fa"
      },
      "source": [
        "newData['FamilyCount'] = newData['Parch'] + newData['SibSp']\n",
        "print(newData['FamilyCount'])"
      ],
      "execution_count": null,
      "outputs": [
        {
          "output_type": "stream",
          "text": [
            "0      1\n",
            "1      1\n",
            "2      0\n",
            "3      1\n",
            "4      0\n",
            "      ..\n",
            "886    0\n",
            "887    0\n",
            "888    3\n",
            "889    0\n",
            "890    0\n",
            "Name: FamilyCount, Length: 891, dtype: int64\n"
          ],
          "name": "stdout"
        }
      ]
    },
    {
      "cell_type": "markdown",
      "metadata": {
        "id": "wuEcpLqQTNjL"
      },
      "source": [
        "part 3: cabin"
      ]
    },
    {
      "cell_type": "code",
      "metadata": {
        "id": "NBLEWJlpTNjM",
        "outputId": "ffb066fc-8a61-43b7-8a94-a7d188d91988"
      },
      "source": [
        "cabin_only = newData[[\"Cabin\" , 'Pclass' , 'Fare']].copy()\n",
        "cabin_only[\"Deck\"] = cabin_only[\"Cabin\"].str.slice(0,1)\n",
        "class2 = cabin_only.loc[cabin_only['Pclass']==2]\n",
        "class3 = cabin_only.loc[cabin_only['Pclass']==3]\n",
        "\n",
        "print(cabin_only.loc[cabin_only['Pclass']==1]['Deck'].value_counts())\n",
        "print(cabin_only.loc[cabin_only['Pclass']==1].groupby('Deck')['Fare'].mean())\n",
        "\n",
        "print(cabin_only.loc[cabin_only['Pclass']==2]['Deck'].value_counts())\n",
        "print(cabin_only.loc[cabin_only['Pclass']==2].groupby('Deck')['Fare'].mean())\n",
        "print(cabin_only.loc[cabin_only['Pclass']==3]['Deck'].value_counts())\n",
        "print(cabin_only.loc[cabin_only['Pclass']==3].groupby('Deck')['Fare'].mean())\n",
        "\n",
        "class2cab = {1:'C' , 2:'F' , 3:'F'}\n",
        "cabin_only['FullDeck'] = cabin_only.apply(\n",
        "    lambda row: class2cab[row['Pclass']] if pd.isna(row['Deck']) else row['Deck'],\n",
        "    axis=1\n",
        ")\n",
        "newData['Deck'] = cabin_only['FullDeck']\n",
        "print(newData['Deck'] )"
      ],
      "execution_count": null,
      "outputs": [
        {
          "output_type": "stream",
          "text": [
            "C    59\n",
            "B    47\n",
            "D    29\n",
            "E    25\n",
            "A    15\n",
            "T     1\n",
            "Name: Deck, dtype: int64\n",
            "Deck\n",
            "A     39.623887\n",
            "B    113.505764\n",
            "C    100.151341\n",
            "D     63.324286\n",
            "E     55.740168\n",
            "T     35.500000\n",
            "Name: Fare, dtype: float64\n",
            "F    8\n",
            "E    4\n",
            "D    4\n",
            "Name: Deck, dtype: int64\n",
            "Deck\n",
            "D    13.166675\n",
            "E    11.587500\n",
            "F    23.750000\n",
            "Name: Fare, dtype: float64\n",
            "F    5\n",
            "G    4\n",
            "E    3\n",
            "Name: Deck, dtype: int64\n",
            "Deck\n",
            "E    11.00000\n",
            "F    10.61166\n",
            "G    13.58125\n",
            "Name: Fare, dtype: float64\n",
            "0      F\n",
            "1      C\n",
            "2      F\n",
            "3      C\n",
            "4      F\n",
            "      ..\n",
            "886    F\n",
            "887    B\n",
            "888    F\n",
            "889    C\n",
            "890    F\n",
            "Name: Deck, Length: 891, dtype: object\n"
          ],
          "name": "stdout"
        }
      ]
    },
    {
      "cell_type": "markdown",
      "metadata": {
        "id": "x8TfVYAGTNjO"
      },
      "source": [
        "part 4: new data"
      ]
    },
    {
      "cell_type": "code",
      "metadata": {
        "id": "aorcEofBTNjP",
        "outputId": "4db0406a-5ebb-4664-cb7d-9d37c5590a1d"
      },
      "source": [
        "alone = newData.loc[newData['FamilyCount']==0]\n",
        "withFamily = newData.loc[newData['FamilyCount']>0]\n",
        "alonepc = alone.loc[alone['Survived']==1]['PassengerId'].count()/alone['PassengerId'].count()\n",
        "familypc = withFamily.loc[withFamily['Survived']==1]['PassengerId'].count()/withFamily['PassengerId'].count()\n",
        "print(alonepc)\n",
        "fig = plt.figure()\n",
        "ax = fig.add_axes([0,0,1,1])\n",
        "titles = ['alone' , 'family']\n",
        "percents = [alonepc , familypc ]\n",
        "ax.bar(titles,percents)\n",
        "plt.show()\n",
        "\n",
        "newData['Alone'] =  newData.apply(\n",
        "    lambda row: 1 if row['FamilyCount']==0 else 0,\n",
        "    axis=1\n",
        ")\n",
        "\n",
        "##############################################################################################\n",
        "\n",
        "child = newData.loc[newData['Child']==1]\n",
        "girl = child.loc[child['Gender']==0]\n",
        "boy = child.loc[child['Gender']==1]\n",
        "girlpc = girl.loc[girl['Survived']==1]['PassengerId'].count() / girl['PassengerId'].count()\n",
        "boypc = boy.loc[boy['Survived']==1]['PassengerId'].count() / boy['PassengerId'].count()\n",
        "print(alonepc)\n",
        "fig = plt.figure()\n",
        "ax = fig.add_axes([0,0,1,1])\n",
        "titles = ['boys' , 'girls']\n",
        "percents = [boypc , girlpc ]\n",
        "print(percents)\n",
        "ax.bar(titles,percents)\n",
        "plt.show()\n",
        "\n",
        "newData['Girl'] =  newData.apply(\n",
        "    lambda row: 1 if (row['Gender']==0 and row['Child']==1) else 0,\n",
        "    axis=1\n",
        ")"
      ],
      "execution_count": null,
      "outputs": [
        {
          "output_type": "stream",
          "text": [
            "0.30353817504655495\n"
          ],
          "name": "stdout"
        },
        {
          "output_type": "display_data",
          "data": {
            "image/png": "[encoded data removed]",
            "text/plain": [
              "<Figure size 432x288 with 1 Axes>"
            ]
          },
          "metadata": {
            "tags": [],
            "needs_background": "light"
          }
        },
        {
          "output_type": "stream",
          "text": [
            "0.30353817504655495\n",
            "[0.5227272727272727, 0.6511627906976745]\n"
          ],
          "name": "stdout"
        },
        {
          "output_type": "display_data",
          "data": {
            "image/png": "[encoded data removed]",
            "text/plain": [
              "<Figure size 432x288 with 1 Axes>"
            ]
          },
          "metadata": {
            "tags": [],
            "needs_background": "light"
          }
        }
      ]
    },
    {
      "cell_type": "code",
      "metadata": {
        "id": "_x_BLbjmTNjQ"
      },
      "source": [
        ""
      ],
      "execution_count": null,
      "outputs": []
    }
  ]
}